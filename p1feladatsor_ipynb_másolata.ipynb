{
  "nbformat": 4,
  "nbformat_minor": 0,
  "metadata": {
    "colab": {
      "provenance": [],
      "include_colab_link": true
    },
    "kernelspec": {
      "name": "python3",
      "display_name": "Python 3"
    },
    "language_info": {
      "name": "python"
    },
    "gpuClass": "standard"
  },
  "cells": [
    {
      "cell_type": "markdown",
      "metadata": {
        "id": "view-in-github",
        "colab_type": "text"
      },
      "source": [
        "<a href=\"https://colab.research.google.com/github/turzodorian06/englertalap/blob/main/p1feladatsor_ipynb_m%C3%A1solata.ipynb\" target=\"_parent\"><img src=\"https://colab.research.google.com/assets/colab-badge.svg\" alt=\"Open In Colab\"/></a>"
      ]
    },
    {
      "cell_type": "markdown",
      "source": [
        "---\n",
        "**30 darab véletlenszám**\n",
        "*   Írj egy programot, amely [1;12] intervallumon állít elő 30 darab véletlenszámot! \n",
        "* A képernyőre kizárólag csak az 5-el oszthatóakat írja ki,\n",
        "* jelenítse meg az összes véletlen generált számot \n",
        "* informálja a felhasználót arról is, hány darab ilyen szám volt."
      ],
      "metadata": {
        "id": "kkQqTtHcUxHQ"
      }
    },
    {
      "cell_type": "code",
      "execution_count": null,
      "metadata": {
        "id": "UOQcHogjDf6U"
      },
      "outputs": [],
      "source": [
        "# ZamArtem  30random.py\n",
        "\"\"\"\n",
        "Írj egy programot, amely [1;12] intervallumon állít elő 30 darab véletlenszámot! \n",
        "A képernyőre kizárólag csak az 5-el oszthatóakat írja ki, majd jelenítse meg az összes véletlen\n",
        "generált számot és a végén informálja a felhasználót arról is, hány darab ilyen szám volt.\n",
        "\"\"\"\n"
      ]
    },
    {
      "cell_type": "markdown",
      "source": [
        "---\n",
        "**Páros - páratlan**\n",
        "\n",
        "* A program a felhasználótól bekér egy egész számot, \n",
        "* majd megvizsgálja, hogy a megadott szám:\n",
        "\n",
        "> pozitív páros vagy\n",
        "\n",
        "> negatív páratlan.\n",
        "\n",
        "* Az eredményről tájékoztatja a felhasználót.\n",
        "Pld:\n",
        "\n",
        "```\n",
        "Kérek egy számot: 2\n",
        "Pozitív páros.\n",
        "------------------------\n",
        "Kérek egy számot: -1\n",
        "Negatív páratlan.\n",
        "```"
      ],
      "metadata": {
        "id": "O8D1O2cXWXh-"
      }
    },
    {
      "cell_type": "code",
      "source": [
        "# ZamArtem Pozitív_páros.py  Update and rename p1adam_001 to Pozitív_páros.py\n",
        "'''1. Feladat\n",
        "Készíts egy programot, amely a felhasználótól bekér egy egész számot, majd megvizsgálja, hogy a megadott szám\n",
        "- pozitív páros vagy\n",
        "- negatív páratlan.\n",
        "Az eredményről tájékoztatja a felhasználót.\n",
        "Pld:\n",
        "------------------------\n",
        "Kérek egy számot: 2\n",
        "Pozitív páros.\n",
        "------------------------\n",
        "Kérek egy számot: -1\n",
        "Negatív páratlan.\n",
        "'''\n",
        "szam = int(input(\"Adj meg egy egész számot: \"))\n",
        "\n",
        "if szam > 0 and szam % 2 == 0:\n",
        "    print(\"pozitív páros\")\n",
        "elif szam > 0 and szam % 2 == 1:\n",
        "    print(\"pozitív páratlan\")\n",
        "elif szam < 0 and szam % 2 == 0:\n",
        "  print(\"negatív páros\")\n",
        "else: \n",
        "  print(\"negatív páratlan\")\n"
      ],
      "metadata": {
        "id": "hY90sdZ3DzYG",
        "colab": {
          "base_uri": "https://localhost:8080/"
        },
        "outputId": "2696894e-9050-478c-e78f-7256014935a2"
      },
      "execution_count": 22,
      "outputs": [
        {
          "output_type": "stream",
          "name": "stdout",
          "text": [
            "Adj meg egy egész számot: 2\n",
            "pozitív páros\n"
          ]
        }
      ]
    },
    {
      "cell_type": "markdown",
      "source": [
        "---\n",
        "**Abszolút érték függvény**\n",
        "\n",
        "Hozzon létre egy olyan függvényt, amely visszatér az abszolút értékkel!"
      ],
      "metadata": {
        "id": "ihlDH-ilas87"
      }
    },
    {
      "cell_type": "code",
      "source": [
        "#loczylevi abszolut.py Rename p1noel_003 to abszolut.py\n",
        "'''\n",
        "Hozzon létre egy olyan függvényt, amely visszatér az abszolút értékkel!\n",
        "'''\n",
        "\n",
        "def abszolut_ertek(a):\n",
        "    if a >= 0:\n",
        "        return a\n",
        "    else:\n",
        "        return -a\n",
        "\n",
        "e1 = abszolut_ertek(2)\n",
        "e2 = abszolut_ertek(-2)\n",
        "e3 = abszolut_ertek(0)\n",
        "\n",
        "print(e1, e2, e3)"
      ],
      "metadata": {
        "id": "S3Kcn6E7EKPK"
      },
      "execution_count": null,
      "outputs": []
    },
    {
      "cell_type": "markdown",
      "source": [
        "---\n",
        "**Betű a szóban**\n",
        "* A program tároljon el egy szót egy változóban. \n",
        "* A felhasználó adjon meg egy betűt, amiről a program döntse el, hogy előfordul-e a szóban! \n",
        "* Az eredményről tájékoztassa a felhasználót, és írja ki a tárolt szót is!\n",
        "   \n",
        "* A felhasználónak többször is legyen lehetősége újabb tippet megadnia. \n",
        "* A bekérés addig folytatódjon, amíg a felhasználó nem ad meg betűt, csupán egy ENTER-t üt!   \n",
        "\n",
        "* Igyekezz minél felhasználóbarátabbá tenni a programot! \n",
        "* A programnak lehetnek egyéb hasznos funkciói, például gyűjtheti és kiírhatja a jó és a rossz tippeket (betűket)."
      ],
      "metadata": {
        "id": "UYhQlcROb38q"
      }
    },
    {
      "cell_type": "code",
      "source": [
        "# ZamArtem betu_a_szoban.py\n",
        "'''A program tároljon el egy szót egy változóban. \n",
        "A felhasználó adjon meg egy betűt, \n",
        "amiről a program döntse el, hogy előfordul-e a szóban! \n",
        "Az eredményről tájékoztassa a felhasználót, és írja ki a tárolt szót is!\n",
        "   \n",
        "A felhasználónak többször is legyen lehetősége újabb tippet megadnia. A bekérés addig folytatódjon, \n",
        "amíg a felhasználó nem ad meg betűt, csupán egy ENTER-t üt!   \n",
        "\n",
        "Igyekezz minél felhasználóbarátabbá tenni a programot! A programnak lehetnek egyéb hasznos funkciói, \n",
        "például gyűjtheti és kiírhatja a jó és a rossz tippeket (betűket).\n",
        "\n",
        "'''\n"
      ],
      "metadata": {
        "id": "UemJ-LE2E6cU"
      },
      "execution_count": null,
      "outputs": []
    },
    {
      "cell_type": "markdown",
      "source": [
        "---\n",
        "**Enter**\n",
        "* A program számokat kér be mindaddig, amíg az csupán ENTER-t üt! \n",
        "* A számokat tárolja el a program egy listában! \n",
        "* Az adatbekérés befejezte után írja ki a program a lista elemeit, \n",
        "* a legkisebb és \n",
        "*a legnagyobb számot!"
      ],
      "metadata": {
        "id": "6-VdY-Y7cuFM"
      }
    },
    {
      "cell_type": "code",
      "source": [
        "# ZamArtem enter.py\n",
        "'''Készíts egy programot, amely a felhasználótól számokat kér be mindaddig, amíg az csupán ENTER-t nem üt! \n",
        "A számokat tárolja el a program egy listában! \n",
        "Az adatbekérés befejezte után írja ki a program a lista elemeit, a legkisebb és a legnagyobb számot!\n",
        "'''\n"
      ],
      "metadata": {
        "id": "BQJMkOiNFqf3"
      },
      "execution_count": null,
      "outputs": []
    },
    {
      "cell_type": "markdown",
      "source": [
        "---\n",
        "**Fej vagy írás**\n",
        "\n",
        "A program a pénzfeldobást modellezi.\n",
        "* Kérdezze meg a felhasználótól a választását (fej vagy írás), \n",
        "* majd adjon tájékoztatást, hogy eltalálta-e!"
      ],
      "metadata": {
        "id": "-cwJwIFGgMqi"
      }
    },
    {
      "cell_type": "code",
      "source": [
        "# ZamArtem fej_vagy_iras.py\n",
        "'''\n",
        "A program a pénzfeldobást modellezi.\n",
        "Kérdezze meg a felhasználótól a választását (fej vagy írás), majd adjon tájékoztatást, hogy eltalálta-e!\n",
        "'''\n",
        "import random\n",
        "pénz= [\"írás\", \"fej\"]\n",
        "\n",
        "penz = (input(\"fej vagy írás?: \"))\n",
        "print(random.choice(pénz))\n"
      ],
      "metadata": {
        "id": "5a5MVHCNGwe7",
        "colab": {
          "base_uri": "https://localhost:8080/"
        },
        "outputId": "7ffb222b-8095-4610-8d1a-20786f377668"
      },
      "execution_count": 12,
      "outputs": [
        {
          "output_type": "stream",
          "name": "stdout",
          "text": [
            "fej vagy írás?: írás\n",
            "fej\n"
          ]
        }
      ]
    },
    {
      "cell_type": "markdown",
      "source": [
        "---\n",
        "**Osztható hárommal, néggyel**\n",
        "\n",
        "Készíts egy programot, amely a felhasználó által megadott egész számról eldönti, hogy\n",
        "* A szám csak 3-mal osztható,\n",
        "* a szám csak 4-gyel osztható,\n",
        "* a szám 3-mal és 4-gyel is osztható,\n",
        "* a szám sem 3-mal, sem 4-gyel nem osztható!\"\"\""
      ],
      "metadata": {
        "id": "RgXBwi08gn4H"
      }
    },
    {
      "cell_type": "code",
      "source": [
        "# ZamArtem haromnegy.py\n",
        "\"\"\"Készíts egy programot, amely a felhasználó által megadott egész számról eldönti, hogy\n",
        "A szám csak 3-mal osztható,\n",
        "a szám csak 4-gyel osztható,\n",
        "a szám 3-mal és 4-gyel is osztható,\n",
        "a szám sem 3-mal, sem 4-gyel nem osztható!\"\"\"\n",
        "\n",
        "szam = int(input(\"adj meg egy számot: \"))\n",
        "\n",
        "if szam % 3 == 0 and szam % 4 == 0:\n",
        "  print(szam, \"3-al és 4-gyel is osztható.\")\n",
        "elif szam % 3 == 0:\n",
        "  print(szam, \"csak 3-al osztható.\")\n",
        "elif szam % 4 == 0:\n",
        "  print(szam, \"csak 4-gyel osztható.\")\n",
        "else:\n",
        "  print(szam, \"sem 3-al és 4-gyel sem oszható.\") "
      ],
      "metadata": {
        "id": "US-8PY9eIXqs",
        "colab": {
          "base_uri": "https://localhost:8080/"
        },
        "outputId": "28eed818-6aa6-4a6c-e8c8-e036deb6b847"
      },
      "execution_count": 16,
      "outputs": [
        {
          "output_type": "stream",
          "name": "stdout",
          "text": [
            "adj meg egy számot: 9632857426746814255634854547454555586745256346856854761526655684776415273566544544654172568798787848612526465485474\n",
            "9632857426746814255634854547454555586745256346856854761526655684776415273566544544654172568798787848612526465485474 sem 3-al és 4-gyel sem oszható.\n"
          ]
        }
      ]
    },
    {
      "cell_type": "markdown",
      "source": [
        "---\n",
        "**A hosszabb szó**\n",
        "\n",
        "* A program kérjen be két szót a felhasználótól, \n",
        "* majd írja ki, hogy melyik a hosszabb illetve azt is ha a két szó egyenlő! \n"
      ],
      "metadata": {
        "id": "7gZ6emm8g74H"
      }
    },
    {
      "cell_type": "code",
      "source": [
        "# violetta2413 hosszabb_szo.py\n",
        "''' \n",
        "A program kérjen be két szót a felhasználótól, \n",
        "majd írja ki, hogy melyik a hosszabb illetve azt is ha a két szó egyenlő! \n",
        "'''\n",
        "\n"
      ],
      "metadata": {
        "id": "67yfTQmNF-Nu"
      },
      "execution_count": null,
      "outputs": []
    },
    {
      "cell_type": "markdown",
      "source": [
        "---\n",
        "**Szöveg többször**\n",
        "\n",
        "írj egy programot, ami: \n",
        "* bekér egy számot (int), \n",
        "* majd egy tetszőlesges karakterlácot (string). \n",
        "* Ezt követően kiírja a karakterláncot csupa nagybetüvel, egymás mellé, szóközökkel elválasztva annyiszor, amennyiv a bekért egész szám volt!\n",
        "\n",
        "```\n",
        "Minta:\n",
        "írj be egy egész számot: 12\n",
        "írj be egy tetszőleges szöveget: hörcsög\n",
        "HÖRCSÖG HÖRCSÖG HÖRCSÖG HÖRCSÖG HÖRCSÖG HÖRCSÖG HÖRCSÖG HÖRCSÖG HÖRCSÖG HÖRCSÖG HÖRCSÖG HÖRCSÖG \n",
        "```"
      ],
      "metadata": {
        "id": "Ft2Qek67hSQG"
      }
    },
    {
      "cell_type": "code",
      "source": [
        "# ZamArtem intszavak.py \n",
        "\"\"\"\n",
        "írj egy programot, ami: bekér egy számot (int), \n",
        "majd egy tetszőlesges karakterlácot (string). \n",
        "Ezt követően kiírja a karakterláncot csupa nagybetüvel, egymás mellé, szóközökkel elválasztva annyiszor, amennyiv a bekért egész szám volt!\"\"\"\n",
        "\n",
        "\"\"\"\n",
        "Minta: (output)\n",
        "1.feladat:\n",
        "írj be egy egész számot: 12\n",
        "írj be egy tetszőleges szöveget: hörcsög\n",
        "HÖRCSÖG HÖRCSÖG HÖRCSÖG HÖRCSÖG HÖRCSÖG HÖRCSÖG HÖRCSÖG HÖRCSÖG HÖRCSÖG HÖRCSÖG HÖRCSÖG HÖRCSÖG \n",
        "\"\"\"\n"
      ],
      "metadata": {
        "id": "7xBVXErXI1PY"
      },
      "execution_count": null,
      "outputs": []
    },
    {
      "cell_type": "markdown",
      "source": [
        "---\n",
        "**Jelszó**\n",
        "\n",
        "Írjon programot jelszo.py néven, amely azt vizsgálja, hogy egy felhasználó helyesen adja-e meg a jelszavát! \n",
        "\n",
        "* A program addig kérdezi újra a felhasználónév-jelszó párost, amíg a felhasználó mindkettőt hibátlanul meg nem adja. \n",
        "* A program egyetlen felhasználó (sis) jelszavát (1234) ismeri, csak ezt a párost fogadja el helyesként. \n",
        "* Mind a sikertelen, mind a sikeres bejelentkezési kísérletekről üzenetet ír a képernyőre."
      ],
      "metadata": {
        "id": "zhY3bGEziKHw"
      }
    },
    {
      "cell_type": "code",
      "source": [
        "#  ZamArtem jelszo.py\n",
        " '''\n",
        " Írjon programot jelszo.py néven, amely azt vizsgálja, hogy egy felhasználó helyesen adja-e meg a jelszavát! \n",
        " A program addig kérdezi újra a felhasználónév-jelszó párost, amíg a felhasználó mindkettőt hibátlanul meg nem adja. \n",
        " A program egyetlen felhasználó (sis) jelszavát (1234) ismeri, csak ezt a párost fogadja el helyesként. \n",
        " Mind a sikertelen, mind a sikeres bejelentkezési kísérletekről üzenetet ír a képernyőre.\n",
        "'''\n"
      ],
      "metadata": {
        "id": "ytbE4yPEJK1m"
      },
      "execution_count": null,
      "outputs": []
    },
    {
      "cell_type": "markdown",
      "source": [
        "---\n",
        "**Keresztnév**\n",
        "* Készíts egy programot, amely a felhasználótól keresztneveket kér be egészen addig, amíg az ENTER-t nem üt (nem ad meg újabb nevet a bekérésnél)! \n",
        "* A program a bekért neveket írja ki a képernyőre!"
      ],
      "metadata": {
        "id": "M5FJlD-oihJB"
      }
    },
    {
      "cell_type": "code",
      "source": [
        "# ZamArtem Rename p1.feladatk.attila to keresztnev.py\n",
        "'''\n",
        "Készíts egy programot, amely a felhasználótól keresztneveket kér be egészen addig, amíg az ENTER-t nem üt (nem ad meg újabb nevet a bekérésnél)! \n",
        "A program a bekért neveket írja ki a képernyőre!\n",
        "'''\n"
      ],
      "metadata": {
        "id": "1JhwwUb_JeiM"
      },
      "execution_count": null,
      "outputs": []
    },
    {
      "cell_type": "markdown",
      "source": [
        "---\n",
        "**Kisebb - nagyobb - egyenlő**\n",
        "\n",
        "* A program kérjen be két számot a felhasználótól, \n",
        "* majd írja ki, hogy melyik a nagyobb! \n",
        "\n",
        "```\n",
        "A program üzeneteinek megfogalmazásában kövesse az alábbi mintát:\n",
        "--------------\n",
        "Adj meg egy számot! 1\n",
        "Adj meg egy másik számot! 17\n",
        "A nagyobb érték 17\n",
        "--------------\n",
        "Adj meg egy számot! 28\n",
        "Adj meg egy másik számot! -2\n",
        "A nagyobb érték: 28\n",
        "---------------\n",
        "Adj meg egy számot! 999\n",
        "Adj meg egy másik számot! 999\n",
        "A két szám egyenlő\n",
        "------------------ \n",
        "```"
      ],
      "metadata": {
        "id": "xnnJVvTli0IC"
      }
    },
    {
      "cell_type": "markdown",
      "source": [
        "---\n",
        "**Nagyobb - egyenlő**\n",
        "\n",
        "* A program kérjen be két számot a felhasználótól, \n",
        "* majd írja ki, hogy melyik a nagyobb! \n",
        "*A program üzeneteinek megfogalmazásában kövesse az alábbi mintát:\n",
        "```\n",
        "Adj meg egy számot! 1\n",
        "Adj meg egy másik számot! 17\n",
        "A nagyobb érték 17\n",
        "\n",
        "Adj meg egy számot! 28\n",
        "Adj meg egy másik számot! -2\n",
        "A nagyobb érték: 28\n",
        "\n",
        "Adj meg egy számot! 999\n",
        "Adj meg egy másik számot! 999\n",
        "A két szám egyenlő\n",
        "```"
      ],
      "metadata": {
        "id": "KxtnA8Ddicwd"
      }
    },
    {
      "cell_type": "code",
      "source": [
        "# ZamArtem Rename main.py to kettoegyenlo.py\n",
        "'''\n",
        "Nagyobb szám.\n",
        "A program kérjen be két számot a felhasználótól, \n",
        "majd írja ki, hogy melyik a nagyobb! \n",
        "A program üzeneteinek megfogalmazásában kövesse az alábbi mintát:\n",
        "--------------\n",
        "Adj meg egy számot! 1\n",
        "Adj meg egy másik számot! 17\n",
        "A nagyobb érték 17\n",
        "--------------\n",
        "Adj meg egy számot! 28\n",
        "Adj meg egy másik számot! -2\n",
        "A nagyobb érték: 28\n",
        "---------------\n",
        "Adj meg egy számot! 999\n",
        "Adj meg egy másik számot! 999\n",
        "A két szám egyenlő\n",
        "------------------\n",
        "'''\n",
        "\n"
      ],
      "metadata": {
        "id": "rHTktzn8JsQ8"
      },
      "execution_count": null,
      "outputs": []
    },
    {
      "cell_type": "markdown",
      "source": [
        "---\n",
        "**A legrövidebb szó**\n",
        "* Írj egy programot, amely a felhasználótól bekér 3 szót, \n",
        "* ezeket egy listában tárolja, \n",
        "* és egy eljárás segítségével meghatározza, és a képernyőre kiírja, melyik a legrövidebb szó!"
      ],
      "metadata": {
        "id": "tyhLUwC3jdJX"
      }
    },
    {
      "cell_type": "code",
      "source": [
        "# loczylevi Rename p1szendro_002 to legrovidebb_szo.py\n",
        "\n",
        "\"\"\"\n",
        "Írj egy programot, amely a felhasználótól bekér 3 szót, \n",
        "ezeket egy listában tárolja, \n",
        "és egy eljárás segítségével meghatározza, és a képernyőre kiírja, melyik a legrövidebb szó!\n",
        "\"\"\"\n",
        "\n",
        "#megtoldás:\n"
      ],
      "metadata": {
        "id": "cNklGhELJ49A"
      },
      "execution_count": null,
      "outputs": []
    },
    {
      "cell_type": "markdown",
      "source": [
        "---\n",
        "**Lista összege**\n",
        "\n",
        "Készíts egy programot, \n",
        "* amely [1;10] intervallumon generál 5 darab véletlen egész számot, \n",
        "* és ezeket tárolja el egy listában! \n",
        "* A program adja össze a lista elemeit, írja ki a képernyőre az összegüket \n",
        "* és a lista elemeit!"
      ],
      "metadata": {
        "id": "6ROFi8FQkfz6"
      }
    },
    {
      "cell_type": "code",
      "source": [
        " # ZamArtem Update and rename p1.feladatk.attila5 to lista_osszege.py\n",
        " '''\n",
        "Készíts egy programot, amely [1;10] intervallumon generál 5 darab véletlen egész számot, \n",
        "és ezeket tárolja el egy listában! \n",
        "A program adja össze a lista elemeit, \n",
        "írja ki a képernyőre az összegüket és a lista elemeit!\n",
        "'''\n"
      ],
      "metadata": {
        "id": "RwqEkp1xKBB_"
      },
      "execution_count": null,
      "outputs": []
    },
    {
      "cell_type": "markdown",
      "source": [
        "---\n",
        "**Kisebb függvény**\n",
        "\n",
        "* Hozzon létre egy olyan függvényt, amely két érték közül visszatér a kisebb értékkel!\n"
      ],
      "metadata": {
        "id": "mIkjVYVIltC_"
      }
    },
    {
      "cell_type": "code",
      "source": [
        "# loczylevi Rename p1noel_002 to melyik kisebb.py\n",
        "#Hozzon létre egy olyan függvényt, amely két érték közül visszatér a kisebb értékkel!\n",
        "    \n",
        "'''Lehetséges Megoldás'''\n"
      ],
      "metadata": {
        "id": "CkV5-OwgKPu8"
      },
      "execution_count": null,
      "outputs": []
    },
    {
      "cell_type": "markdown",
      "source": [
        "---\n",
        "**Nagyobb függvény**\n",
        "\n",
        "* Hozzon létre egy olyan függvényt, amely két érték közül visszatér a nagyobb \n",
        "értékkel!"
      ],
      "metadata": {
        "id": "VKcVo0Dbl8br"
      }
    },
    {
      "cell_type": "code",
      "source": [
        "# loczylevi Rename p1noel_001 to melyik_nagyobb.py\n",
        "#Hozzon létre egy olyan függvényt, amely két érték közül visszatér a nagyobb értékkel!\n",
        "\n",
        "'''Lehetséges Megoldás'''\n"
      ],
      "metadata": {
        "id": "E61oCakoKaq8"
      },
      "execution_count": null,
      "outputs": []
    },
    {
      "cell_type": "markdown",
      "source": [
        "---\n",
        "**Lista feltöltés, kisebb, nagyobb**\n",
        "\n",
        "* Készíts egy programot, amely a felhasználótól számokat kér be mindaddig, amíg az 'X'-et vagy 'x'-et nem üt! \n",
        "* A számokat tárolja el a program egy listában! \n",
        "* Az adatbekérés befejezte után írja ki a program a lista elemeit, \n",
        "* a legkisebb és a \n",
        "* legnagyobb számot!\n",
        "'''\n"
      ],
      "metadata": {
        "id": "j3VWzFkqmc5J"
      }
    },
    {
      "cell_type": "code",
      "source": [
        "# kovacsbalazspeter21 Update mindadig_mig_x.py\n",
        "'''\n",
        "Készíts egy programot, amely a felhasználótól számokat kér be mindaddig, amíg az 'X'-et vagy 'x'-et nem üt! A számokat tárolja el a program egy listában! \n",
        "Az adatbekérés befejezte után írja ki a program a lista elemeit, a legkisebb és a legnagyobb számot!\n",
        "'''\n"
      ],
      "metadata": {
        "id": "B8zViS09Khr7"
      },
      "execution_count": null,
      "outputs": []
    },
    {
      "cell_type": "markdown",
      "source": [
        "---\n",
        "**Mondatvégi jel**\n",
        "\n",
        "Készíts egy programot, amely a felhasználó által megadott mondatról a mondatvégi jel alapján eldönti milyen fajtájú! \n",
        "(kijelentő, kérdő, felkiáltó/felszólító)\n",
        "```\n",
        "A mondat fajtája: Felkiáltó/Felszólító \n",
        "A mondat fajtája: Kérdő\n",
        "A mondat fajtája: Kijelentő\n",
        "```"
      ],
      "metadata": {
        "id": "BBx-LadUrSwH"
      }
    },
    {
      "cell_type": "code",
      "source": [
        "# violetta2413 Rename p1violetta_005.py to mondatvégi_jel.py\n",
        "'''\n",
        "Készíts egy programot, amely a felhasználó által megadott mondatról a mondatvégi jel alapján eldönti milyen fajtájú! \n",
        "(kijelentő, kérdő, felkiáltó/felszólító)\n",
        "'''\n"
      ],
      "metadata": {
        "id": "GF2Mpmf4KrAy"
      },
      "execution_count": null,
      "outputs": []
    },
    {
      "cell_type": "markdown",
      "source": [
        "---\n",
        "**E betük**\n",
        "* A program számolja össze, hogy hány darab 'E' vagy 'e' betűt tartalmazó szó van a szavak listában. \n",
        "* A képernyőre írja is ki a feltételnek megfelelő szavakat!\n"
      ],
      "metadata": {
        "id": "L0_9xtI3eMcl"
      }
    },
    {
      "cell_type": "code",
      "source": [
        "# hadaszibalazs205 Create p1.Ebetű.py\n",
        "'''\n",
        "A program számolja össze, hogy hány darab 'E' vagy 'e' betűt tartalmazó szó van a szavak listában. \n",
        "A képernyőre írja is ki a feltételnek megfelelő szavakat!\n",
        "'''\n",
        "\n",
        "szavak = ['Elemér', 'Emma', 'ajtó', 'róka', 'egér']\n"
      ],
      "metadata": {
        "id": "cDYZGs4IKxPK"
      },
      "execution_count": null,
      "outputs": []
    },
    {
      "cell_type": "markdown",
      "source": [
        "---\n",
        "**T betük**\n",
        "* A  ['ajtó','tojás','Ottó','Tamás', 'tép','Tesla','alma','python'] lista elemei közül a program kiírja a \"t\" és \"T\" betűkkel kezdődőeket!"
      ],
      "metadata": {
        "id": "1fSbS2CYegHM"
      }
    },
    {
      "cell_type": "code",
      "source": [
        "# ZamArtem Update p1.Tbetű.py\n",
        "'''\n",
        "A  ['ajtó','tojás','Ottó','Tamás', 'tép','Tesla','alma','python'] lista elemei közül a program kiírja a \"t\" és \"T\" betűkkel kezdődőeket!\n",
        "'''\n"
      ],
      "metadata": {
        "id": "wJlLSY7oK5JJ"
      },
      "execution_count": null,
      "outputs": []
    },
    {
      "cell_type": "markdown",
      "source": [
        "---\n",
        "**Találd ki a számot a listában**\n",
        "* Írj egy programot, amely 5 darab véletlenszámot generál [1;7] intervallumon,\n",
        "és ezeket eltárolja egy listában. \n",
        "* Kérjen be a felhasználótól egy számot,\n",
        "és vizsgálja meg, hogy ez előfordul-e a listában! \n",
        "* Az eredményről tájékoztassa a felhasználót,\n",
        "* és írja ki a lista elemeit a képernyőre!\n",
        "\n",
        "```\n",
        "Kérek egy számot: 1\n",
        "A megadott szam megtalalhato a listaban, [4, 2, 1, 2, 3]\n",
        "```"
      ],
      "metadata": {
        "id": "ijjULvoAfCiG"
      }
    },
    {
      "cell_type": "code",
      "source": [
        "# ZamArtem Update p1.eldöntés.py\n",
        "'''\n",
        "Írj egy programot, amely 5 darab véletlenszámot generál [1;7] intervallumon,\n",
        "és ezeket eltárolja egy listában. Kérjen be a felhasználótól egy számot,\n",
        "és vizsgálja meg, hogy ez előfordul-e a listában! Az eredményről tájékoztassa a felhasználót,\n",
        "és írja ki a lista elemeit a képernyőre!\n",
        "Pld:\n",
        "Kérek egy számot: 1\n",
        "A megadott szam megtalalhato a listaban, [4, 2, 1, 2, 3]\n",
        "'''\n"
      ],
      "metadata": {
        "id": "hwR4Z9a9LBfO"
      },
      "execution_count": null,
      "outputs": []
    },
    {
      "cell_type": "markdown",
      "source": [
        "---\n",
        "**Kisebb - nagyobb - egyenlő**\n",
        "\n",
        "* Készíts egy rövid programot, amely 1 és 3 között generál véletlenszámot, \n",
        "* majd összehasonlítja ezt a felhasználó által megadott, szintén ebbe a tartományba eső számmal! \n",
        "* Az összehasonlítás eredményéről tájékoztassa a felhasználót!"
      ],
      "metadata": {
        "id": "waSwuhY3f05_"
      }
    },
    {
      "cell_type": "code",
      "source": [
        "# hadaszibalazs205 Rename p1hadaszi.generál.py to p1.generál.py\n",
        "'''\n",
        "Készíts egy rövid programot, amely 1 és 3 között generál véletlenszámot, \n",
        "majd összehasonlítja ezt a felhasználó által megadott, szintén ebbe a tartományba eső számmal! \n",
        "Az összehasonlítás eredményéről tájékoztassa a felhasználót!\n",
        "'''\n",
        "\n"
      ],
      "metadata": {
        "id": "dXL_OekbLHhm"
      },
      "execution_count": null,
      "outputs": []
    },
    {
      "cell_type": "markdown",
      "source": [
        "---\n",
        "**Páros számok a listában**\n",
        "* Készíts egy programot, amely [1;10] intervallumon generál 5 darab véletlen egész számot \n",
        "* és ezeket tárolja el egy listában! \n",
        "* A program számolja össze, és képernyőre írja ki a listában tárolt páros számok számát, valamint a lista elemeit!"
      ],
      "metadata": {
        "id": "kqmx6ppVgn_R"
      }
    },
    {
      "cell_type": "code",
      "source": [
        "# hadaszibalazs205 Create p1.intervallum.py\n",
        "'''\n",
        "Készíts egy programot, amely [1;10] intervallumon generál 5 darab véletlen egész számot \n",
        "és ezeket tárolja el egy listában! A program számolja össze, \n",
        "és képernyőre írja ki a listában tárolt páros számok számát, valamint a lista elemeit!\n",
        "'''\n",
        "\n"
      ],
      "metadata": {
        "id": "TFj_1t-KLQHu"
      },
      "execution_count": null,
      "outputs": []
    },
    {
      "cell_type": "markdown",
      "source": [
        "---\n",
        "**Kutya**\n",
        "\n",
        "* Írj programot, amely a felhasználótól bekéri egy kutya nevét, életkorát, fajtáját, és azt hogy rendelkezik-e érvényes oltással veszettség ellen! \n",
        "* Az adatokat tárolja a program szótárban, és írja ki a képernyőre az adatszerkezetet!"
      ],
      "metadata": {
        "id": "hYd7oq9BnS5a"
      }
    },
    {
      "cell_type": "code",
      "source": [
        "# hadaszibalazs205 Create p1.kutya.py\n",
        "'''\n",
        "Írj egy programot, amely a felhasználótól bekéri egy kutya nevét, életkorát, fajtáját, és azt hogy rendelkezik-e érvényes oltással veszettség ellen! \n",
        "Az adatokat tárolja a program szótárban, és írja ki a képernyőre az adatszerkezetet!\n",
        "'''\n"
      ],
      "metadata": {
        "id": "QpDg3h1VLXpE"
      },
      "execution_count": null,
      "outputs": []
    },
    {
      "cell_type": "markdown",
      "source": [
        "---\n",
        "**Macska**\n",
        "* Írj egy programot, amely szótárban tárolja egy macska nevét, korát. \n",
        "* A felhasználónak legyen lehetősége megváltoztatni az egyik tárolt adatot. \n",
        "* A program írja ki a felhasználó választása alapján az egyik adatot, kérdezze meg, mire módosítsa, \n",
        "* végül írja ki a képernyőre a frissített adatszerkezetet!"
      ],
      "metadata": {
        "id": "ZIE_FKc9hBTt"
      }
    },
    {
      "cell_type": "code",
      "source": [
        "# hadaszibalazs205 Create p1.macska.py\n",
        "'''\n",
        "Írj egy programot, amely szótárban tárolja egy macska nevét, korát. \n",
        "A felhasználónak legyen lehetősége megváltoztatni az egyik tárolt adatot. \n",
        "A program írja ki a felhasználó választása alapján az egyik adatot, kérdezze meg, mire módosítsa, végül írja ki a képernyőre a frissített adatszerkezetet!\n",
        "'''\n",
        "\n"
      ],
      "metadata": {
        "id": "GfiW05nLLklr"
      },
      "execution_count": null,
      "outputs": []
    },
    {
      "cell_type": "markdown",
      "source": [
        "---\n",
        "**Mondat fajtája**\n",
        "* Készíts egy programot, amely a felhasználó által megadott mondatról a mondatvégi jel alapján eldönti milyen fajtájú! (kijelentő, kérdő, felkiáltó / felszólító / óhajtó)"
      ],
      "metadata": {
        "id": "lzQ--YjFhUSd"
      }
    },
    {
      "cell_type": "code",
      "source": [
        "# hadaszibalazs205 Update p1.mondatvége.py\n",
        "'''\n",
        "Készíts egy programot, amely a felhasználó által megadott mondatról a mondatvégi jel alapján eldönti milyen fajtájú! (kijelentő, kérdő, felkiáltó / felszólító / óhajtó)\n",
        "'''\n",
        "\n"
      ],
      "metadata": {
        "id": "qmZGAx1QLsqV"
      },
      "execution_count": null,
      "outputs": []
    },
    {
      "cell_type": "markdown",
      "source": [
        "---\n",
        "**Lista legkisebb eleme függvény**\n",
        "* Írj egy programot, ami addig kér be egész pozitív számokat, amíg a felhasználó negtív számot nem ír! \n",
        "* A megadott számokat tárolja a program egy listában, és ezt adja át paraméterként egy függvények, amely a lista legkisebb elemével tér vissza. \n",
        "* A program írja ki, hogy melyik volt a megadott legkisebb szám!"
      ],
      "metadata": {
        "id": "L1HUVxRZh0sf"
      }
    },
    {
      "cell_type": "code",
      "source": [
        "# hadaszibalazs205 Create p1.pozitív&negatív.py\n",
        "'''\n",
        "Írj egy programot, ami addig kér be egész pozitív számokat, amíg a felhasználó negtív számot nem ír! \n",
        "A megadott számokat tárolja a program egy listában, és ezt adja át paraméterként egy függvények, amely a lista legkisebb elemével tér vissza. \n",
        "A program írja ki, hogy melyik volt a megadott legkisebb szám!\n",
        "'''\n",
        "\n"
      ],
      "metadata": {
        "id": "yDKWFg-PLzoK"
      },
      "execution_count": null,
      "outputs": []
    },
    {
      "cell_type": "markdown",
      "source": [
        "---\n",
        "**Fej vagy írás**\n",
        "\n",
        "* A program a pénzfeldobást modellezi. \n",
        "* Kérdezze meg a felhasználótól a választását (fej vagy írás), \n",
        "* majd adjon tájékoztatást, hogy eltalálta-e!"
      ],
      "metadata": {
        "id": "I2HdYpF6kSAX"
      }
    },
    {
      "cell_type": "code",
      "source": [
        "# hadaszibalazs205 Rename p1hadaszi.pénzfeldobás.py to p1.pénzfeldobás.py\n",
        "'''\n",
        "A program a pénzfeldobást modellezi. Kérdezze meg a felhasználótól a választását (fej vagy írás), majd adjon tájékoztatást, hogy eltalálta-e!\n",
        "'''\n",
        "\n"
      ],
      "metadata": {
        "id": "_JTMXGUoL9cx"
      },
      "execution_count": null,
      "outputs": []
    },
    {
      "cell_type": "markdown",
      "source": [
        "---\n",
        "**Találd ki a számot**\n",
        "\n",
        "* Készíts egy rövid programot, amely 1 és 10 között generál véletlenszámot, \n",
        "* majd összehasonlítja ezt a felhasználó által megadott, szintén ebbe a tartományba eső számmal! \n",
        "* A bekérés addig folytatódjon ameddig a felhasználó nem ad meg negatív számot! * Az összehasonlítás eredményéről tájékoztassa a felhasználót!"
      ],
      "metadata": {
        "id": "syPEPPPlkwro"
      }
    },
    {
      "cell_type": "code",
      "source": [
        "# hadaszibalazs205 Create p1.véletlenszam.py\n",
        "'''\n",
        "Készíts egy rövid programot, amely 1 és 10 között generál véletlenszámot, majd összehasonlítja ezt a felhasználó által megadott, szintén ebbe a tartományba eső számmal! A bekérés addig folytatódjon ameddig a felhasználó nem ad meg negatív számot! Az összehasonlítás eredményéről tájékoztassa a felhasználót!\n",
        "'''\n",
        "\n"
      ],
      "metadata": {
        "id": "Nd_bZywtMCbQ"
      },
      "execution_count": null,
      "outputs": []
    },
    {
      "cell_type": "markdown",
      "source": [
        "---\n",
        "**FizzBuzz**\n",
        "\n",
        "* Hozzon létre egy számsorozatot 0-tól 100-ig,\n",
        "* ami 3-mal osztható annál írja ki, hogy 'Fizz'\n",
        "* ami 5-tel osztható annál írja ki, hogy 'Buzz'\n",
        "* ami 3-mal és 5-tel is osztható annál írja li, hogy 'FizzBuzz'\n",
        "* Ami se 3-mal se 5-tel nem osztható annál írjuk ki a magát a számot!\n",
        "\n",
        "```\n",
        "Minta: (az első 10 sor)\n",
        "FizzBuzz\n",
        "1\n",
        "2\n",
        "Fizz\n",
        "4\n",
        "Buzz\n",
        "Fizz\n",
        "7\n",
        "8\n",
        "Fizz\n",
        "Buzz\n",
        "```"
      ],
      "metadata": {
        "id": "D0R0XsM7llTm"
      }
    },
    {
      "cell_type": "code",
      "source": [
        "# loczylevi Create p1_fizzbuzz.py\n",
        "\"\"\"\n",
        "Hozzon létre egy számsorozatot 0-tól 100-ig,\n",
        "ami 3-mal osztható annál írja ki, hogy 'Fizz'\n",
        "ami 5-tel osztható annál írja ki, hogy 'Buzz'\n",
        "ami 3-mal és 5-tel is osztható annál írja li, hogy 'FizzBuzz'\n",
        "Ami se 3-mal se 5-tel nem osztható annál írjuk ki a magát a számot!\n",
        "\"\"\"\n",
        "\n",
        "\"\"\"Minta: (az első 10 sor output)\n",
        "FizzBuzz\n",
        "1\n",
        "2\n",
        "Fizz\n",
        "4\n",
        "Buzz\n",
        "Fizz\n",
        "7\n",
        "8\n",
        "Fizz\n",
        "Buzz\n",
        "\"\"\"\n",
        "\n"
      ],
      "metadata": {
        "id": "-tvMI6ygMJGQ"
      },
      "execution_count": null,
      "outputs": []
    },
    {
      "cell_type": "markdown",
      "source": [
        "---\n",
        "**Kisebb - nagyobb**\n",
        "\n",
        "* Kérjen be a felhasználotol két egész számot (int) és tárolja el őket. \n",
        "* írja ki, hogy melyik a nagyobb és melyik a kisebb szám! \n",
        "* Ha két szám egyenlő, akkor azt is jelezze!\n",
        "```\n",
        "Minta:\n",
        "Kérem az első számot: 12\n",
        "Kérem az második számot: 3\n",
        "A nagyobb szám 12, a kisebb 3.\n",
        "\n",
        "Kérem az első számot: -1\n",
        "Kérem az második számot: 16\n",
        "A nagyobb szám 16, a kisebb -1.\n",
        "\n",
        "Kérem az első számot: 8\n",
        "Kérem az második számot: 8\n",
        "A két szám egyenlő.\n",
        "```"
      ],
      "metadata": {
        "id": "Ia5S4MfzmKQ-"
      }
    },
    {
      "cell_type": "code",
      "source": [
        "# loczylevi Create p1_kisebb_nagyobb.py\n",
        "\"\"\"\n",
        "Kérjen be a felhasználotol két egész számot (int) és tárolja el őket. írja ki, hogy melyik a nagyobb és melyik a kisebb szám! Ha két szám egyenlő, akkor azt is jelezze!\n",
        "Minta:\n",
        "Kisebb-nagyobb meghatározása\n",
        "Kérem az első számot: 12\n",
        "Kérem az második számot: 3\n",
        "A nagyobb szám 12, a kisebb 3.\n",
        "\n",
        "Kérem az első számot: -1\n",
        "Kérem az második számot: 16\n",
        "A nagyobb szám 16, a kisebb -1.\n",
        "\n",
        "Kérem az első számot: 8\n",
        "Kérem az második számot: 8\n",
        "A két szám egyenlő.\n",
        "\"\"\"\n",
        "\n"
      ],
      "metadata": {
        "id": "KtGrky-BMQM9"
      },
      "execution_count": null,
      "outputs": []
    },
    {
      "cell_type": "markdown",
      "source": [
        "---\n",
        "**A páros számok száma**\n",
        "\n",
        "* Készíts egy programot, amely [1;10] intervallumon generál 5 darab véletlen egész számot \n",
        "* és ezeket tárolja el egy listában! \n",
        "* A program számolja össze és írja ki a képernyőre a \n",
        "listában tárolt páros számok számát, \n",
        "* valamint a lista elemeit! "
      ],
      "metadata": {
        "id": "lwVX0MBInlpu"
      }
    },
    {
      "cell_type": "code",
      "source": [
        "# violetta2413 Rename p1violetta_002.py to paros_szamok.py\n",
        "''' \n",
        "Készíts egy programot, amely [1;10] intervallumon generál 5 darab véletlen egész számot \n",
        "és ezeket tárolja el egy listában! \n",
        "A program számolja össze és írja ki a képernyőre a \n",
        "listában tárolt páros számok számát, valamint a lista elemeit! \n",
        "'''\n",
        "\n"
      ],
      "metadata": {
        "id": "qmzH_C1dMYXH"
      },
      "execution_count": null,
      "outputs": []
    },
    {
      "cell_type": "markdown",
      "source": [
        "---\n",
        "**A páros számok száma**\n",
        "\n",
        "* Készíts egy programot, amely [1;10] intervallumon generál 5 darab véletlen egész számot \n",
        "* és ezeket tárolja el egy listában! \n",
        "* A program számolja össze és írja ki a képernyőre a \n",
        "listában tárolt páros számok számát, \n",
        "* valamint a lista elemeit! "
      ],
      "metadata": {
        "id": "YBpW8AWtn9lb"
      }
    },
    {
      "cell_type": "code",
      "source": [
        "# loczylevi Rename p1noel_005 to paros_szamok2.py\n",
        "'''\n",
        "Készíts egy programot, amely [1;10] intervallumon generál 5 darab véletlen egész számot \n",
        "és ezeket tárolja el egy listában!\n",
        "A program számolja össze, és képernyőre írja ki a listában tárolt páros számok számát, valamint a lista elemeit!\n",
        "'''\n"
      ],
      "metadata": {
        "id": "eBGM3v2sMfA-"
      },
      "execution_count": null,
      "outputs": []
    },
    {
      "cell_type": "markdown",
      "source": [
        "---\n",
        "**A lista hárommal oszható számai**\n",
        "\n",
        "* A lista [120, 9, 5, 24, 6, 17, -45, 92, 15, 48, 57] elemei közül a program kiírja a 3-mal osztható páros számokat!\n"
      ],
      "metadata": {
        "id": "_VHMmEz_oHWP"
      }
    },
    {
      "cell_type": "code",
      "source": [
        "# ZamArtem Rename p1.feladatk.attila2 to parosharom.py\n",
        "'''\n",
        "A lista [120, 9, 5, 24, 6, 17, -45, 92, 15, 48, 57] elemei közül a program kiírja a 3-mal osztható páros számokat!\n",
        "'''\n"
      ],
      "metadata": {
        "id": "PfJbnQXCMmoc"
      },
      "execution_count": null,
      "outputs": []
    },
    {
      "cell_type": "markdown",
      "source": [
        "---\n",
        "**A lista legkisebb és legnagyobb eleme**\n",
        "\n",
        "* A lista [120, 9, 5, 24, 6, 17, -45, 92, 15, 48, 57] elemei közül a program kiírja a 3-mal osztható páros számokat!\n"
      ],
      "metadata": {
        "id": "KpSVy2FSoZP4"
      }
    },
    {
      "cell_type": "code",
      "source": [
        "# ZamArtem Update and rename p1.feladatk.attila3 to szamokenter.py\n",
        "'''\n",
        "Készíts egy programot, amely a felhasználótól számokat kér be mindaddig, amíg az csupán ENTER-t nem üt! \n",
        "A számokat tárolja el a program egy listában! Az adatbekérés befejezte után írja ki a program a lista elemeit, a legkisebb és a legnagyobb számot!\n",
        "'''\n"
      ],
      "metadata": {
        "id": "hOhfa5WVMtVT"
      },
      "execution_count": null,
      "outputs": []
    },
    {
      "cell_type": "markdown",
      "source": [
        "---\n",
        "**Számsorozat összege**\n",
        "\n",
        "* A felhasználátol kérjen be egy számot, és az ebből készített számsorozatot adja össze, majd írja ki."
      ],
      "metadata": {
        "id": "sXKj-2vkouqz"
      }
    },
    {
      "cell_type": "code",
      "source": [
        "# kovacsbalazspeter21 Update and rename osszead.py to szamsorozat.py\n",
        "#A felhasználátol kérjen be egy számot, és az ebből készített számsorozatot adja össze, majd írja ki.\n",
        "\n",
        "#példa\n",
        "'''\n",
        "kérek egy számot: 10\n",
        "55\n",
        "'''\n"
      ],
      "metadata": {
        "id": "gH6rOB68M1Ri"
      },
      "execution_count": null,
      "outputs": []
    },
    {
      "cell_type": "markdown",
      "source": [
        "---\n",
        "**Két szám töbszörösei függvény**\n",
        "\n",
        "* Hozzon létre egy függvényt, amely két számot vesz argumentumként (szám, hossz)\n",
        "* és a szám többszöröseinek listáját adja vissza, amíg a lista hossza el nem éri a hosszúságot.\n",
        "\n",
        "```\n",
        "példa: list_of_multiples(7, 5) ➞ [7, 14, 21, 28, 35]\n",
        "```"
      ],
      "metadata": {
        "id": "Rd9ru4b2kpqK"
      }
    },
    {
      "cell_type": "code",
      "source": [
        "# loczylevi Rename p1noel_004 to szorzotabla.py\n",
        "'''\n",
        "Hozzon létre egy függvényt, amely két számot vesz argumentumként (szám, hossz),\n",
        "és a szám többszöröseinek listáját adja vissza, amíg a lista hossza el nem éri a hosszúságot.\n",
        "\n",
        "példa: list_of_multiples(7, 5) ➞ [7, 14, 21, 28, 35]\n",
        "'''\n",
        "\n"
      ],
      "metadata": {
        "id": "g3dQzMwaM9gx"
      },
      "execution_count": null,
      "outputs": []
    },
    {
      "cell_type": "markdown",
      "source": [
        "---\n",
        "**Utolsó számjegy**\n",
        "* Készíts egy programot, ami bekér egy számot a felhasználótól \n",
        "* és kiírja a képernyőre az utolsó számjegyét!"
      ],
      "metadata": {
        "id": "UNe6rf4PkV6m"
      }
    },
    {
      "cell_type": "code",
      "source": [
        "# violetta2413 Rename p1violetta_004.py to utolso_szamjegy.py\n",
        "'''\n",
        "Készíts egy programot, ami bekér egy számot a felhasználótól \n",
        "és kiírja a képernyőre az utolsó számjegyét!\n",
        "'''\n"
      ],
      "metadata": {
        "id": "3MQfHMSPNEKZ"
      },
      "execution_count": null,
      "outputs": []
    },
    {
      "cell_type": "markdown",
      "source": [
        "---\n",
        "**Számkitaláló**\n",
        "* Készíts egy rövid programot, amely 1 és 3 között generál véletlenszámot, \n",
        "* majd összehasonlítja ezt a felhasználó által megadott, szintén ebbe a tartományba eső számmal! \n",
        "* Az összehasonlítás eredményéről tájékoztassa a felhasználót!"
      ],
      "metadata": {
        "id": "jtxFW10_j9yK"
      }
    },
    {
      "cell_type": "code",
      "source": [
        "# kovacsbalazspeter21 Add files via upload veletlen.py \n",
        "\"\"\"\n",
        "Készíts programot, amely 1 és 3 között generál véletlenszámot, \n",
        "majd összehasonlítja ezt a felhasználó által megadott, szintén ebbe a tartományba eső számmal! \n",
        "Az összehasonlítás eredményéről tájékoztassa a felhasználót!\n",
        "\"\"\"\n"
      ],
      "metadata": {
        "id": "pE0Pvaw3NK2P"
      },
      "execution_count": null,
      "outputs": []
    },
    {
      "cell_type": "markdown",
      "source": [
        "---\n",
        "**Páros számok 1 és 10 között**\n",
        "\n",
        "Írj egy programot while ciklussal amely kiírja a páros számokat 1 és 10 között!"
      ],
      "metadata": {
        "id": "1-n64Porr8Y9"
      }
    },
    {
      "cell_type": "code",
      "source": [
        "# kovacsbalazspeter21 Add files via upload while.py \n",
        "'''\n",
        "Írj programot while ciklussal amely kiírja a páros számokat 1 és 10 között!\n",
        "'''\n"
      ],
      "metadata": {
        "id": "9WRy9umoNV7m"
      },
      "execution_count": null,
      "outputs": []
    }
  ]
}